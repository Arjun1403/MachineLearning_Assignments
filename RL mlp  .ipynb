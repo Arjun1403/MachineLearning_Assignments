{
 "cells": [
  {
   "cell_type": "markdown",
   "metadata": {},
   "source": [
    "### A.) Create RLmlp so that 10 states are represented in the linear maze within a tabular representation of the states. The rewards at state 0 should still be set at 1, and the rewards at state 9 should be set to two. The reward on all other states is 0. The discount factor should be set to gamma=0.8. "
   ]
  },
  {
   "cell_type": "markdown",
   "metadata": {},
   "source": [
    "## A Answer"
   ]
  },
  {
   "cell_type": "code",
   "execution_count": 71,
   "metadata": {},
   "outputs": [],
   "source": [
    "# the network\n",
    "import numpy as np\n",
    "import matplotlib.pyplot as plt\n",
    "from keras import models, layers, optimizers\n",
    "\n",
    "def tau(s,a):\n",
    "    if (s[0] and s[9]) == 0 : s=np.roll(s,a)\n",
    "    return s\n",
    "\n",
    "def rho(s):\n",
    "    return ((s[0]==1)+2*(s[9]==1))    \n",
    "\n",
    "def terminal_state(s):\n",
    "    return (s[0]==1 or s[9]==1)    \n",
    "\n",
    "gamma=0.8\n",
    "invT = 1\n"
   ]
  },
  {
   "cell_type": "code",
   "execution_count": 72,
   "metadata": {},
   "outputs": [],
   "source": [
    "# the actual network\n",
    "inputs = layers.Input(shape=(10,))\n",
    "h = layers.Dense(10, activation='relu')(inputs)\n",
    "outputs = layers.Dense(2, activation='linear')(h)\n",
    "\n",
    "model = models.Model(inputs=inputs, outputs=outputs)\n",
    "RMSprop = optimizers.RMSprop(lr=0.01)\n",
    "model.compile(loss='mse', optimizer=RMSprop)"
   ]
  },
  {
   "cell_type": "code",
   "execution_count": 73,
   "metadata": {},
   "outputs": [],
   "source": [
    "for trial in range(400):\n",
    "    s= np.array([0,1,0,0,0,0,0,0,0,0])\n",
    "    for t in range(0,10):\n",
    "        if terminal_state(s): break\n",
    "        if trial > 30 and invT > 0.1: invT -= 0.001\n",
    "        prediction=model.predict(s.reshape(1,10), steps=1, verbose=0)\n",
    "        aidx=np.argmax(prediction)\n",
    "        if np.random.rand() < invT : aidx=1-aidx\n",
    "        a=2*aidx-1\n",
    "        next_s = tau(s,a)\n",
    "        if terminal_state(next_s): \n",
    "            y = rho(next_s)\n",
    "        else:\n",
    "            y = gamma*np.max(model.predict(next_s.reshape(1,10), steps=1, verbose=0))\n",
    "        prediction[0,aidx]=y\n",
    "        model.fit(s.reshape(1,10), prediction, epochs=1, verbose=0)\n",
    "        s = np.copy(next_s) "
   ]
  },
  {
   "cell_type": "code",
   "execution_count": 74,
   "metadata": {},
   "outputs": [
    {
     "name": "stdout",
     "output_type": "stream",
     "text": [
      "[[[0.6739534  0.4950924  0.34532723 0.3777313  0.34155247 0.5183386\n",
      "   0.48367923 0.25404304 0.97268945 0.79952955]]\n",
      "\n",
      " [[0.43137324 0.33400548 0.21114738 0.34472805 0.29417074 0.5062047\n",
      "   0.4251778  0.24498905 0.69689345 0.5154997 ]]]\n",
      "policy: [-1. -1. -1. -1. -1. -1. -1. -1. -1. -1.]\n"
     ]
    }
   ],
   "source": [
    "policy = np.zeros(10)\n",
    "Q=[]\n",
    "s = np.array([0,0,0,1,0,0,0,0,0,0])\n",
    "for i in range(0,10):\n",
    "    Qs=model.predict(s.reshape(1,10), steps=1)\n",
    "    Q.append(Qs)\n",
    "    aidx=np.argmax(Qs)\n",
    "    policy[i]=2*aidx-1\n",
    "    s = np.roll(s,1)\n",
    "print(np.transpose(Q))\n",
    "print('policy:',np.transpose(policy))\n"
   ]
  },
  {
   "cell_type": "markdown",
   "metadata": {},
   "source": [
    "### B.) Write a version of the program where the state input is given with a simple number representing the state."
   ]
  },
  {
   "cell_type": "markdown",
   "metadata": {},
   "source": [
    "# B Answer"
   ]
  },
  {
   "cell_type": "code",
   "execution_count": 156,
   "metadata": {},
   "outputs": [],
   "source": [
    "import numpy as np\n",
    "import matplotlib.pyplot as plt\n",
    "from keras import models, layers, optimizers\n",
    "\n",
    "def tau(s,a):\n",
    "    if (s == 0 and s==9) == 0 : s=s+a\n",
    "    return s\n",
    "\n",
    "def rho(s):\n",
    "    return ((s==0)+2*(s==9))    \n",
    "\n",
    "def terminal_state(s):\n",
    "    return (s == 0 or s== 9)    \n",
    "\n",
    "gamma=0.5\n",
    "invT = 1"
   ]
  },
  {
   "cell_type": "code",
   "execution_count": 157,
   "metadata": {},
   "outputs": [],
   "source": [
    "# the actual network\n",
    "inputs = layers.Input(shape=(1,))\n",
    "h = layers.Dense(10, activation='relu')(inputs)\n",
    "outputs = layers.Dense(2, activation='linear')(h)\n",
    "\n",
    "model = models.Model(inputs=inputs, outputs=outputs)\n",
    "RMSprop = optimizers.RMSprop(lr=0.01)\n",
    "model.compile(loss='mse', optimizer=RMSprop)"
   ]
  },
  {
   "cell_type": "code",
   "execution_count": 158,
   "metadata": {},
   "outputs": [],
   "source": [
    "#Actual \n",
    "\n",
    "for trial in range(40):\n",
    "    s=2\n",
    "    for t in range(0,5):\n",
    "        if terminal_state(s): break\n",
    "        if trial > 30 and invT > 0.1: invT -= 0.001\n",
    "        prediction=model.predict(np.array(s).reshape(1,1), steps=1, verbose=0)\n",
    "        aidx=np.argmax(prediction)\n",
    "        if np.random.rand() < invT : aidx=1-aidx\n",
    "        a=2*aidx-1\n",
    "        next_s = tau(s,a)\n",
    "        if terminal_state(next_s): \n",
    "            y = rho(next_s)\n",
    "        else:\n",
    "            y = gamma*np.max(model.predict(np.array(next_s).reshape(1,1), steps=1, verbose=0))\n",
    "        prediction[0,aidx]=y\n",
    "        model.fit(np.array(s).reshape(1,1), prediction, epochs=1, verbose=0)\n",
    "        s = next_s "
   ]
  },
  {
   "cell_type": "code",
   "execution_count": 162,
   "metadata": {},
   "outputs": [
    {
     "name": "stdout",
     "output_type": "stream",
     "text": [
      "[[[0.4948008  0.4699813  0.44516206 0.42034286 0.3955235  0.37070435\n",
      "   0.34588474 0.36149913 0.5370765  0.51962   ]]\n",
      "\n",
      " [[0.23395534 0.2220272  0.21009894 0.19817103 0.1862429  0.17431463\n",
      "   0.16238661 0.1708066  0.25658476 0.24588342]]]\n",
      "policy: [-1. -1. -1. -1. -1. -1. -1. -1. -1. -1.]\n"
     ]
    }
   ],
   "source": [
    "policy = np.zeros(10)\n",
    "Q=[]\n",
    "s = 3\n",
    "for i in range(0,10):\n",
    "    Qs=model.predict(np.array(s).reshape(1,1), steps=1)\n",
    "    Q.append(Qs)\n",
    "    aidx=np.argmax(Qs)\n",
    "    policy[i]=2*aidx-1\n",
    "    if s==9:\n",
    "        s=0\n",
    "    else:\n",
    "        s=s+1\n",
    "    \n",
    "    \n",
    "print(np.transpose(Q))\n",
    "print('policy:',np.transpose(policy))\n"
   ]
  },
  {
   "cell_type": "markdown",
   "metadata": {},
   "source": [
    "### c.) Write a version of the program where a trained network is used to recognise a hand-written number from MNIST that then becomes the input."
   ]
  },
  {
   "cell_type": "markdown",
   "metadata": {},
   "source": [
    "# C Answer"
   ]
  },
  {
   "cell_type": "code",
   "execution_count": 122,
   "metadata": {},
   "outputs": [],
   "source": [
    "import numpy as np\n",
    "import matplotlib.pyplot as plt\n",
    "from keras import models, layers, optimizers\n",
    "\n",
    "def tau(s,a):\n",
    "    if (s == 0 and s==9) == 0 : s=s+a\n",
    "    return s\n",
    "\n",
    "def rho(s):\n",
    "    return ((s==0)+2*(s==9))    \n",
    "\n",
    "def terminal_state(s):\n",
    "    return (s == 0 or s== 9)    \n",
    "\n",
    "gamma=0.5\n",
    "invT = 1"
   ]
  },
  {
   "cell_type": "code",
   "execution_count": 94,
   "metadata": {},
   "outputs": [
    {
     "name": "stdout",
     "output_type": "stream",
     "text": [
      "Downloading data from https://storage.googleapis.com/tensorflow/tf-keras-datasets/mnist.npz\n",
      "11493376/11490434 [==============================] - 3s 0us/step\n"
     ]
    }
   ],
   "source": [
    "from keras import models,layers,optimizers,datasets,utils\n",
    "(xtrain,ytrain),(xtest,ytest)= datasets.mnist.load_data()"
   ]
  },
  {
   "cell_type": "code",
   "execution_count": 95,
   "metadata": {},
   "outputs": [],
   "source": [
    "xtrain=xtrain.reshape(60000,784)/255\n",
    "xtest=xtest.reshape(10000,784)/255\n",
    "ytrain=utils.to_categorical(ytrain,10)\n",
    "ytest=utils.to_categorical(ytest,10)"
   ]
  },
  {
   "cell_type": "markdown",
   "metadata": {},
   "source": [
    "# Giving Mnsit model ouput to agent or rnn model"
   ]
  },
  {
   "cell_type": "code",
   "execution_count": 168,
   "metadata": {},
   "outputs": [],
   "source": [
    "inputs = layers.Input(shape=(784,))\n",
    "x = layers.Dense(128,activation='relu')(inputs)\n",
    "x = layers.Dense(128,activation='relu')(x)\n",
    "x = layers.Dense(128,activation='relu')(x)\n",
    "x = layers.Dense(128,activation='relu')(x)\n",
    "x = layers.Dense(128,activation='relu')(x)\n",
    "outputs=layers.Dense(10,activation='softmax')(x)\n",
    "# element = np.argmax(outputs)\n",
    "# new_inputs=np.zeroes(10)\n",
    "# new_inputs[element]=1\n",
    "# inputs = layers.Input(shape=(1,))\n",
    "h = layers.Dense(10, activation='relu')(outputs)\n",
    "outputs = layers.Dense(2, activation='linear')(h)\n",
    "\n",
    "model = models.Model(inputs=inputs, outputs=outputs)\n",
    "RMSprop = optimizers.RMSprop(lr=0.01)\n",
    "model.compile(loss='mse', optimizer=RMSprop)\n"
   ]
  },
  {
   "cell_type": "code",
   "execution_count": 169,
   "metadata": {},
   "outputs": [
    {
     "name": "stdout",
     "output_type": "stream",
     "text": [
      "[5, 0, 4, 1, 9, 2, 1, 3, 1, 4, 3, 5, 3, 6, 1, 7, 2, 8, 6, 9]\n"
     ]
    }
   ],
   "source": [
    "z= [np.argmax(x) for x in  ytrain[:20]]\n",
    "print(z)\n",
    "image_to_y_train_value={}\n",
    "y_train_value_to_image={}\n",
    "for i in range(0,10):\n",
    "    element_index=z.index(i)\n",
    "    y_train_value_to_image[i]=xtrain[element_index]"
   ]
  },
  {
   "cell_type": "code",
   "execution_count": 170,
   "metadata": {},
   "outputs": [],
   "source": [
    "for trial in range(50):\n",
    "    s= y_train_value_to_image[2]\n",
    "    s_value=2\n",
    "    for t in range(0,10):\n",
    "        if terminal_state(s_value): break\n",
    "        if trial > 30 and invT > 0.1: invT -= 0.001\n",
    "        prediction=model.predict(s.reshape(1,784), steps=1, verbose=0)\n",
    "        aidx=np.argmax(prediction)\n",
    "        if np.random.rand() < invT : aidx=1-aidx\n",
    "        a=2*aidx-1\n",
    "        next_s = tau(s_value,a)\n",
    "        if terminal_state(next_s): \n",
    "            y = rho(next_s)\n",
    "        else:\n",
    "            next_s_image=y_train_value_to_image[next_s]\n",
    "            y = gamma*np.max(model.predict(next_s_image.reshape(1,784), steps=1, verbose=0))\n",
    "        prediction[0,aidx]=y\n",
    "        model.fit(s.reshape(1,784), prediction, epochs=1, verbose=0)\n",
    "        s = np.copy(next_s_image) \n",
    "        s_value=next_s"
   ]
  },
  {
   "cell_type": "code",
   "execution_count": 179,
   "metadata": {},
   "outputs": [
    {
     "name": "stdout",
     "output_type": "stream",
     "text": [
      "[[[0.5307927  0.5307927  0.5307927  0.5307927  0.5307927  0.5307927\n",
      "   0.5307927  0.5307927  0.5307927  0.5307927 ]]\n",
      "\n",
      " [[0.48381937 0.48381937 0.48381937 0.48381937 0.48381937 0.48381937\n",
      "   0.48381937 0.48381937 0.48381937 0.48381937]]]\n",
      "policy: [-1. -1. -1. -1. -1. -1. -1. -1. -1. -1.]\n"
     ]
    }
   ],
   "source": [
    "policy = np.zeros(10)\n",
    "Q=[]\n",
    "s = y_train_value_to_image[1]\n",
    "s_value =1\n",
    "for i in range(0,10):\n",
    "    Qs=model.predict(s.reshape(1,784), steps=1,verbose=0)\n",
    "    Q.append(Qs)\n",
    "    aidx=np.argmax(Qs)\n",
    "    policy[i]=2*aidx-1\n",
    "    if s_value==9:\n",
    "        s_value=0\n",
    "    else:\n",
    "        s_value+=1\n",
    "    s=np.copy(y_train_value_to_image[s_value])\n",
    "print(np.transpose(Q))\n",
    "print('policy:',np.transpose(policy))\n"
   ]
  }
 ],
 "metadata": {
  "kernelspec": {
   "display_name": "Python 3",
   "language": "python",
   "name": "python3"
  },
  "language_info": {
   "codemirror_mode": {
    "name": "ipython",
    "version": 3
   },
   "file_extension": ".py",
   "mimetype": "text/x-python",
   "name": "python",
   "nbconvert_exporter": "python",
   "pygments_lexer": "ipython3",
   "version": "3.8.5"
  }
 },
 "nbformat": 4,
 "nbformat_minor": 2
}
