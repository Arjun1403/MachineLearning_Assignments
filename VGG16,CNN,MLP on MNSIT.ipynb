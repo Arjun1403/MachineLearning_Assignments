{
 "cells": [
  {
   "cell_type": "code",
   "execution_count": 2,
   "metadata": {},
   "outputs": [],
   "source": [
    "import numpy as np\n",
    "import matplotlib.pyplot as plot\n",
    "from keras import models,layers,optimizers,datasets,utils,losses\n",
    "from scipy import ndimage\n",
    "from keras.applications.vgg16 import preprocess_input,VGG16\n",
    "from keras.preprocessing.image import img_to_array, array_to_img"
   ]
  },
  {
   "cell_type": "markdown",
   "metadata": {},
   "source": [
    "# Data Pre-processing for VGG16 Only for 1024 training and 200 test sets"
   ]
  },
  {
   "cell_type": "code",
   "execution_count": 3,
   "metadata": {},
   "outputs": [],
   "source": [
    "(xtrain,ytrain),(xtest,ytest)= datasets.mnist.load_data( )\n",
    "X_train,Y_train,X_test,Y_test = xtrain[:1024],ytrain[:1024],xtest[:200],ytest[:200]\n",
    "X_train=X_train.reshape(1024,28,28,1)/255\n",
    "X_test=X_test.reshape(200,28,28,1)/255\n",
    "Y_train=utils.to_categorical(Y_train,10)\n",
    "Y_test=utils.to_categorical(Y_test,10)"
   ]
  },
  {
   "cell_type": "markdown",
   "metadata": {},
   "source": [
    "# Zoom All the images 3 Times"
   ]
  },
  {
   "cell_type": "code",
   "execution_count": 10,
   "metadata": {},
   "outputs": [],
   "source": [
    "new_x_train=np.asarray([ndimage.zoom(train_image,3) for train_image in X_train])\n",
    "new_x_test=np.asarray([ndimage.zoom(test_image,3) for test_image in X_test])"
   ]
  },
  {
   "cell_type": "code",
   "execution_count": 8,
   "metadata": {},
   "outputs": [
    {
     "data": {
      "text/plain": [
       "(1024, 784)"
      ]
     },
     "execution_count": 8,
     "metadata": {},
     "output_type": "execute_result"
    }
   ],
   "source": [
    "Y_train.shape\n",
    "X_train= X_train.reshape(1024,784)\n",
    "X_train.shape"
   ]
  },
  {
   "cell_type": "code",
   "execution_count": 83,
   "metadata": {},
   "outputs": [
    {
     "name": "stdout",
     "output_type": "stream",
     "text": [
      "Shape of Training Set(1024, 84, 84, 3)\n"
     ]
    }
   ],
   "source": [
    "print(\"Shape of Training Set\" + str(new_x_train.shape))"
   ]
  },
  {
   "cell_type": "markdown",
   "metadata": {},
   "source": [
    "# Creation Of VGG16 model"
   ]
  },
  {
   "cell_type": "code",
   "execution_count": 127,
   "metadata": {},
   "outputs": [],
   "source": [
    "vgg_model=VGG16(weights='imagenet',input_shape=(84,84,3),include_top=False)"
   ]
  },
  {
   "cell_type": "markdown",
   "metadata": {},
   "source": [
    "# Turning off the All the layers"
   ]
  },
  {
   "cell_type": "code",
   "execution_count": 128,
   "metadata": {},
   "outputs": [
    {
     "name": "stdout",
     "output_type": "stream",
     "text": [
      "0 input_8\n",
      "1 block1_conv1\n",
      "2 block1_conv2\n",
      "3 block1_pool\n",
      "4 block2_conv1\n",
      "5 block2_conv2\n",
      "6 block2_pool\n",
      "7 block3_conv1\n",
      "8 block3_conv2\n",
      "9 block3_conv3\n",
      "10 block3_pool\n",
      "11 block4_conv1\n",
      "12 block4_conv2\n",
      "13 block4_conv3\n",
      "14 block4_pool\n",
      "15 block5_conv1\n",
      "16 block5_conv2\n",
      "17 block5_conv3\n",
      "18 block5_pool\n"
     ]
    }
   ],
   "source": [
    "for layer in vgg_model.layers[:-2]:\n",
    "    layer.trainable = True\n",
    "for i, layer in enumerate(vgg_model.layers):\n",
    "   print(i, layer.name)"
   ]
  },
  {
   "cell_type": "markdown",
   "metadata": {},
   "source": [
    "# Predicting features of train and test without training any layers"
   ]
  },
  {
   "cell_type": "code",
   "execution_count": 129,
   "metadata": {},
   "outputs": [
    {
     "name": "stdout",
     "output_type": "stream",
     "text": [
      "64/64 [==============================] - 24s 381ms/step\n"
     ]
    }
   ],
   "source": [
    "features_train = vgg_model.predict(np.array(new_x_train), batch_size= 16, verbose=1)"
   ]
  },
  {
   "cell_type": "code",
   "execution_count": 130,
   "metadata": {},
   "outputs": [
    {
     "name": "stdout",
     "output_type": "stream",
     "text": [
      "13/13 [==============================] - 4s 342ms/step\n"
     ]
    }
   ],
   "source": [
    "features_test = vgg_model.predict(np.array(new_x_test), batch_size=16, verbose=1)"
   ]
  },
  {
   "cell_type": "code",
   "execution_count": 131,
   "metadata": {},
   "outputs": [
    {
     "name": "stdout",
     "output_type": "stream",
     "text": [
      "Shape of feature train (1024, 2, 2, 512)\n",
      "Shape of feature test(200, 2, 2, 512)\n"
     ]
    }
   ],
   "source": [
    "print(\"Shape of feature train \" + str(features_train.shape))\n",
    "print(\"Shape of feature test\" + str(features_test.shape))"
   ]
  },
  {
   "cell_type": "markdown",
   "metadata": {},
   "source": [
    "# Flatten the train and test features to feed into the model"
   ]
  },
  {
   "cell_type": "code",
   "execution_count": 132,
   "metadata": {},
   "outputs": [],
   "source": [
    "flatten_train_feature = np.reshape(features_train, (1024, 2*2*512))\n",
    "flatten_test_feature = np.reshape(features_test, (200, 2*2*512))"
   ]
  },
  {
   "cell_type": "markdown",
   "metadata": {},
   "source": [
    "# Creating Dense Layers and Compiling it "
   ]
  },
  {
   "cell_type": "code",
   "execution_count": 133,
   "metadata": {},
   "outputs": [],
   "source": [
    "model = models.Sequential()\n",
    "model.add(layers.Dense(512, activation='relu',input_dim=(2*2*512)))\n",
    "model.add(layers.Dense(512, activation='relu',input_dim=(2*2*512)))\n",
    "model.add(layers.Dense(10, activation='softmax'))\n",
    "model.compile(loss='categorical_crossentropy',optimizer='Nadam',metrics=['accuracy'])"
   ]
  },
  {
   "cell_type": "markdown",
   "metadata": {},
   "source": [
    "# Fit the model"
   ]
  },
  {
   "cell_type": "code",
   "execution_count": 134,
   "metadata": {},
   "outputs": [
    {
     "name": "stdout",
     "output_type": "stream",
     "text": [
      "Epoch 1/10\n",
      "32/32 [==============================] - 0s 14ms/step - loss: 1.0672 - accuracy: 0.6836 - val_loss: 0.3849 - val_accuracy: 0.8750\n",
      "Epoch 2/10\n",
      "32/32 [==============================] - 0s 12ms/step - loss: 0.2838 - accuracy: 0.9141 - val_loss: 0.1804 - val_accuracy: 0.9650\n",
      "Epoch 3/10\n",
      "32/32 [==============================] - 0s 12ms/step - loss: 0.1409 - accuracy: 0.9521 - val_loss: 0.1626 - val_accuracy: 0.9450\n",
      "Epoch 4/10\n",
      "32/32 [==============================] - 0s 12ms/step - loss: 0.1384 - accuracy: 0.9580 - val_loss: 0.1578 - val_accuracy: 0.9500\n",
      "Epoch 5/10\n",
      "32/32 [==============================] - 0s 12ms/step - loss: 0.0543 - accuracy: 0.9873 - val_loss: 0.1179 - val_accuracy: 0.9750\n",
      "Epoch 6/10\n",
      "32/32 [==============================] - 0s 12ms/step - loss: 0.0209 - accuracy: 0.9961 - val_loss: 0.1056 - val_accuracy: 0.9750\n",
      "Epoch 7/10\n",
      "32/32 [==============================] - 0s 12ms/step - loss: 0.0115 - accuracy: 1.0000 - val_loss: 0.1232 - val_accuracy: 0.9650\n",
      "Epoch 8/10\n",
      "32/32 [==============================] - 0s 13ms/step - loss: 0.0071 - accuracy: 1.0000 - val_loss: 0.1182 - val_accuracy: 0.9700\n",
      "Epoch 9/10\n",
      "32/32 [==============================] - 0s 13ms/step - loss: 0.0043 - accuracy: 1.0000 - val_loss: 0.1051 - val_accuracy: 0.9800\n",
      "Epoch 10/10\n",
      "32/32 [==============================] - 0s 12ms/step - loss: 0.0031 - accuracy: 1.0000 - val_loss: 0.1105 - val_accuracy: 0.9800\n"
     ]
    }
   ],
   "source": [
    "model_fit=model.fit(flatten_train_feature,Y_train,epochs=10,validation_data=(flatten_test_feature,Y_test))"
   ]
  },
  {
   "cell_type": "markdown",
   "metadata": {},
   "source": [
    "# Training and Test accuracy for VGG16 by training Dense Layers"
   ]
  },
  {
   "cell_type": "code",
   "execution_count": 135,
   "metadata": {},
   "outputs": [
    {
     "data": {
      "image/png": "[encoded data removed]",
      "text/plain": [
       "<Figure size 432x288 with 1 Axes>"
      ]
     },
     "metadata": {
      "needs_background": "light"
     },
     "output_type": "display_data"
    }
   ],
   "source": [
    "epochs = range(1, len(model_fit.history['accuracy']) + 1)\n",
    "plot.title('Training and Testing accuracy')\n",
    "plot.plot(epochs, model_fit.history['accuracy'], 'red', label='Training accuracy')\n",
    "plot.plot(epochs, model_fit.history['val_accuracy'], 'blue', label='Testing accuracy')\n",
    "plot.xlabel('Epochs',size=18)\n",
    "plot.ylabel('Accuracy',size=18)\n",
    "plot.legend()\n",
    "plot.show()"
   ]
  },
  {
   "cell_type": "markdown",
   "metadata": {},
   "source": [
    "# Vgg model on 60,000 Training Samples and 10,000 Testing Samples"
   ]
  },
  {
   "cell_type": "markdown",
   "metadata": {},
   "source": [
    "## Data preprocessing stage"
   ]
  },
  {
   "cell_type": "code",
   "execution_count": 3,
   "metadata": {},
   "outputs": [],
   "source": [
    "(xtrain,ytrain),(xtest,ytest)= datasets.mnist.load_data()\n",
    "xtrain=xtrain.reshape(60000,28,28,1)/255\n",
    "xtest=xtest.reshape(10000,28,28,1)/255\n",
    "ytrain=utils.to_categorical(ytrain,10)\n",
    "ytest=utils.to_categorical(ytest,10)"
   ]
  },
  {
   "cell_type": "code",
   "execution_count": null,
   "metadata": {},
   "outputs": [],
   "source": [
    "# Belows lines of code ran once and saved the zoomed images in local it is of size of 10GB\n",
    "new_x_train=np.asarray([ndimage.zoom(train_image,3) for train_image in xtrain])\n",
    "new_x_test=np.asarray([ndimage.zoom(test_image,3) for test_image in xtest])\n",
    "np.save('train.npy',new_x_train)\n",
    "np.save('test.npy',new_x_test)"
   ]
  },
  {
   "cell_type": "markdown",
   "metadata": {},
   "source": [
    "# Loading Zoomed Values and reshaping it to 48 as kernel should not die"
   ]
  },
  {
   "cell_type": "code",
   "execution_count": 4,
   "metadata": {},
   "outputs": [],
   "source": [
    "new_x_train = np.load('train.npy')\n",
    "new_x_test= np.load('test.npy')"
   ]
  },
  {
   "cell_type": "code",
   "execution_count": 5,
   "metadata": {},
   "outputs": [],
   "source": [
    "reshaped_train_X = np.asarray([img_to_array(array_to_img(image, scale=False).resize((48,48))) for image in new_x_train])\n",
    "reshaped_test_X = np.asarray([img_to_array(array_to_img(image2, scale=False).resize((48,48))) for image2 in new_x_test])"
   ]
  },
  {
   "cell_type": "markdown",
   "metadata": {},
   "source": [
    "# Preprocess inputs"
   ]
  },
  {
   "cell_type": "code",
   "execution_count": 6,
   "metadata": {},
   "outputs": [],
   "source": [
    "process_train = preprocess_input(reshaped_train_X)\n",
    "process_test = preprocess_input(reshaped_test_X)"
   ]
  },
  {
   "cell_type": "markdown",
   "metadata": {},
   "source": [
    "# Creating of VGG16 models and predicting its features"
   ]
  },
  {
   "cell_type": "code",
   "execution_count": 7,
   "metadata": {},
   "outputs": [],
   "source": [
    "vgg_model=VGG16(weights='imagenet',input_shape=(48,48,3),include_top=False)"
   ]
  },
  {
   "cell_type": "code",
   "execution_count": 8,
   "metadata": {},
   "outputs": [
    {
     "name": "stdout",
     "output_type": "stream",
     "text": [
      "3750/3750 [==============================] - 540s 144ms/step\n"
     ]
    }
   ],
   "source": [
    "features_train = vgg_model.predict(np.array(process_train), batch_size= 16, verbose=1)"
   ]
  },
  {
   "cell_type": "code",
   "execution_count": 9,
   "metadata": {},
   "outputs": [
    {
     "name": "stdout",
     "output_type": "stream",
     "text": [
      "625/625 [==============================] - 89s 142ms/step\n"
     ]
    }
   ],
   "source": [
    "features_test = vgg_model.predict(np.array(process_test), batch_size=16, verbose=1)"
   ]
  },
  {
   "cell_type": "code",
   "execution_count": 11,
   "metadata": {},
   "outputs": [],
   "source": [
    "flatten_train_feature = np.reshape(features_train, (60000, 1*1*512))\n",
    "flatten_test_feature = np.reshape(features_test, (10000, 1*1*512))"
   ]
  },
  {
   "cell_type": "markdown",
   "metadata": {},
   "source": [
    "# Add Dense layers"
   ]
  },
  {
   "cell_type": "code",
   "execution_count": 17,
   "metadata": {},
   "outputs": [],
   "source": [
    "model = models.Sequential()\n",
    "model.add(layers.Dense(512, activation='relu', input_dim=(1*1*512)))\n",
    "model.add(layers.Dense(512, activation='relu', input_dim=(1*1*512)))\n",
    "model.add(layers.Dense(10, activation='softmax'))"
   ]
  },
  {
   "cell_type": "code",
   "execution_count": 18,
   "metadata": {},
   "outputs": [],
   "source": [
    "model.compile(loss='categorical_crossentropy',optimizer='Nadam',metrics=['accuracy'])"
   ]
  },
  {
   "cell_type": "markdown",
   "metadata": {},
   "source": [
    "# Accuracy of the model is 71 percent"
   ]
  },
  {
   "cell_type": "code",
   "execution_count": 14,
   "metadata": {},
   "outputs": [
    {
     "name": "stdout",
     "output_type": "stream",
     "text": [
      "Epoch 1/100\n",
      "469/469 [==============================] - 3s 7ms/step - loss: 2.2005 - accuracy: 0.2110 - val_loss: 1.8755 - val_accuracy: 0.2700\n",
      "Epoch 2/100\n",
      "469/469 [==============================] - 3s 7ms/step - loss: 1.8101 - accuracy: 0.3271 - val_loss: 1.7821 - val_accuracy: 0.3376\n",
      "Epoch 3/100\n",
      "469/469 [==============================] - 3s 7ms/step - loss: 1.6748 - accuracy: 0.3835 - val_loss: 1.5470 - val_accuracy: 0.4526\n",
      "Epoch 4/100\n",
      "469/469 [==============================] - 3s 7ms/step - loss: 1.5775 - accuracy: 0.4261 - val_loss: 1.5570 - val_accuracy: 0.4100\n",
      "Epoch 5/100\n",
      "469/469 [==============================] - 3s 7ms/step - loss: 1.4946 - accuracy: 0.4555 - val_loss: 1.4521 - val_accuracy: 0.4525\n",
      "Epoch 6/100\n",
      "469/469 [==============================] - 3s 7ms/step - loss: 1.4372 - accuracy: 0.4827 - val_loss: 1.3718 - val_accuracy: 0.4897\n",
      "Epoch 7/100\n",
      "469/469 [==============================] - 4s 8ms/step - loss: 1.3780 - accuracy: 0.5075 - val_loss: 1.3117 - val_accuracy: 0.5456\n",
      "Epoch 8/100\n",
      "469/469 [==============================] - 3s 7ms/step - loss: 1.3374 - accuracy: 0.5223 - val_loss: 1.2690 - val_accuracy: 0.5380\n",
      "Epoch 9/100\n",
      "469/469 [==============================] - 3s 7ms/step - loss: 1.2932 - accuracy: 0.5412 - val_loss: 1.1659 - val_accuracy: 0.5987\n",
      "Epoch 10/100\n",
      "469/469 [==============================] - 4s 8ms/step - loss: 1.2648 - accuracy: 0.5509 - val_loss: 1.2810 - val_accuracy: 0.5525\n",
      "Epoch 11/100\n",
      "469/469 [==============================] - 3s 7ms/step - loss: 1.2304 - accuracy: 0.5617 - val_loss: 1.1472 - val_accuracy: 0.6012\n",
      "Epoch 12/100\n",
      "469/469 [==============================] - 3s 7ms/step - loss: 1.2035 - accuracy: 0.5752 - val_loss: 1.1738 - val_accuracy: 0.5983\n",
      "Epoch 13/100\n",
      "469/469 [==============================] - 3s 7ms/step - loss: 1.1821 - accuracy: 0.5808 - val_loss: 1.0923 - val_accuracy: 0.6161\n",
      "Epoch 14/100\n",
      "469/469 [==============================] - 3s 7ms/step - loss: 1.1658 - accuracy: 0.5878 - val_loss: 1.1380 - val_accuracy: 0.6104\n",
      "Epoch 15/100\n",
      "469/469 [==============================] - 3s 7ms/step - loss: 1.1431 - accuracy: 0.5969 - val_loss: 1.0779 - val_accuracy: 0.6249\n",
      "Epoch 16/100\n",
      "469/469 [==============================] - 3s 7ms/step - loss: 1.1349 - accuracy: 0.6000 - val_loss: 1.0515 - val_accuracy: 0.6367\n",
      "Epoch 17/100\n",
      "469/469 [==============================] - 3s 7ms/step - loss: 1.1157 - accuracy: 0.6065 - val_loss: 1.0161 - val_accuracy: 0.6495\n",
      "Epoch 18/100\n",
      "469/469 [==============================] - 4s 8ms/step - loss: 1.0999 - accuracy: 0.6137 - val_loss: 1.0731 - val_accuracy: 0.6260\n",
      "Epoch 19/100\n",
      "469/469 [==============================] - 3s 7ms/step - loss: 1.0864 - accuracy: 0.6169 - val_loss: 1.0163 - val_accuracy: 0.6485\n",
      "Epoch 20/100\n",
      "469/469 [==============================] - 4s 8ms/step - loss: 1.0776 - accuracy: 0.6195 - val_loss: 1.0376 - val_accuracy: 0.6429\n",
      "Epoch 21/100\n",
      "469/469 [==============================] - 4s 8ms/step - loss: 1.0610 - accuracy: 0.6278 - val_loss: 1.0664 - val_accuracy: 0.6304\n",
      "Epoch 22/100\n",
      "469/469 [==============================] - 3s 7ms/step - loss: 1.0484 - accuracy: 0.6307 - val_loss: 0.9883 - val_accuracy: 0.6586\n",
      "Epoch 23/100\n",
      "469/469 [==============================] - 3s 7ms/step - loss: 1.0378 - accuracy: 0.6351 - val_loss: 1.0077 - val_accuracy: 0.6507\n",
      "Epoch 24/100\n",
      "469/469 [==============================] - 3s 7ms/step - loss: 1.0348 - accuracy: 0.6379 - val_loss: 0.9705 - val_accuracy: 0.6647\n",
      "Epoch 25/100\n",
      "469/469 [==============================] - 3s 7ms/step - loss: 1.0250 - accuracy: 0.6387 - val_loss: 0.9594 - val_accuracy: 0.6677\n",
      "Epoch 26/100\n",
      "469/469 [==============================] - 3s 7ms/step - loss: 1.0120 - accuracy: 0.6455 - val_loss: 1.0502 - val_accuracy: 0.6342\n",
      "Epoch 27/100\n",
      "469/469 [==============================] - 3s 7ms/step - loss: 1.0034 - accuracy: 0.6478 - val_loss: 0.9391 - val_accuracy: 0.6815\n",
      "Epoch 28/100\n",
      "469/469 [==============================] - 3s 7ms/step - loss: 0.9932 - accuracy: 0.6526 - val_loss: 1.1299 - val_accuracy: 0.6040\n",
      "Epoch 29/100\n",
      "469/469 [==============================] - 3s 7ms/step - loss: 0.9894 - accuracy: 0.6530 - val_loss: 0.9476 - val_accuracy: 0.6733\n",
      "Epoch 30/100\n",
      "469/469 [==============================] - 3s 7ms/step - loss: 0.9846 - accuracy: 0.6551 - val_loss: 1.0034 - val_accuracy: 0.6527\n",
      "Epoch 31/100\n",
      "469/469 [==============================] - 3s 7ms/step - loss: 0.9731 - accuracy: 0.6567 - val_loss: 0.9426 - val_accuracy: 0.6688\n",
      "Epoch 32/100\n",
      "469/469 [==============================] - 3s 7ms/step - loss: 0.9714 - accuracy: 0.6583 - val_loss: 0.9342 - val_accuracy: 0.6807\n",
      "Epoch 33/100\n",
      "469/469 [==============================] - 3s 7ms/step - loss: 0.9607 - accuracy: 0.6643 - val_loss: 1.0092 - val_accuracy: 0.6451\n",
      "Epoch 34/100\n",
      "469/469 [==============================] - 3s 7ms/step - loss: 0.9600 - accuracy: 0.6631 - val_loss: 0.9402 - val_accuracy: 0.6772\n",
      "Epoch 35/100\n",
      "469/469 [==============================] - 4s 7ms/step - loss: 0.9499 - accuracy: 0.6665 - val_loss: 0.9415 - val_accuracy: 0.6726\n",
      "Epoch 36/100\n",
      "469/469 [==============================] - 4s 8ms/step - loss: 0.9458 - accuracy: 0.6691 - val_loss: 0.9109 - val_accuracy: 0.6827\n",
      "Epoch 37/100\n",
      "469/469 [==============================] - 3s 7ms/step - loss: 0.9418 - accuracy: 0.6703 - val_loss: 0.9188 - val_accuracy: 0.6775\n",
      "Epoch 38/100\n",
      "469/469 [==============================] - 3s 7ms/step - loss: 0.9396 - accuracy: 0.6716 - val_loss: 1.1448 - val_accuracy: 0.6064\n",
      "Epoch 39/100\n",
      "469/469 [==============================] - 4s 8ms/step - loss: 0.9344 - accuracy: 0.6743 - val_loss: 0.9136 - val_accuracy: 0.6861\n",
      "Epoch 40/100\n",
      "469/469 [==============================] - 3s 7ms/step - loss: 0.9279 - accuracy: 0.6750 - val_loss: 0.9742 - val_accuracy: 0.6578\n",
      "Epoch 41/100\n",
      "469/469 [==============================] - 3s 7ms/step - loss: 0.9208 - accuracy: 0.6790 - val_loss: 0.9140 - val_accuracy: 0.6817\n",
      "Epoch 42/100\n",
      "469/469 [==============================] - 4s 8ms/step - loss: 0.9187 - accuracy: 0.6778 - val_loss: 0.8909 - val_accuracy: 0.6928\n",
      "Epoch 43/100\n",
      "469/469 [==============================] - 3s 7ms/step - loss: 0.9173 - accuracy: 0.6787 - val_loss: 0.8625 - val_accuracy: 0.7011\n",
      "Epoch 44/100\n",
      "469/469 [==============================] - 3s 7ms/step - loss: 0.9136 - accuracy: 0.6795 - val_loss: 0.9006 - val_accuracy: 0.6876\n",
      "Epoch 45/100\n",
      "469/469 [==============================] - 3s 7ms/step - loss: 0.9050 - accuracy: 0.6833 - val_loss: 0.9018 - val_accuracy: 0.6891\n",
      "Epoch 46/100\n",
      "469/469 [==============================] - 4s 8ms/step - loss: 0.9062 - accuracy: 0.6829 - val_loss: 0.9846 - val_accuracy: 0.6539\n",
      "Epoch 47/100\n",
      "469/469 [==============================] - 3s 7ms/step - loss: 0.8974 - accuracy: 0.6854 - val_loss: 0.8922 - val_accuracy: 0.6908\n",
      "Epoch 48/100\n",
      "469/469 [==============================] - 3s 7ms/step - loss: 0.8962 - accuracy: 0.6856 - val_loss: 0.9224 - val_accuracy: 0.6774\n",
      "Epoch 49/100\n",
      "469/469 [==============================] - 4s 8ms/step - loss: 0.8981 - accuracy: 0.6852 - val_loss: 0.8962 - val_accuracy: 0.6897\n",
      "Epoch 50/100\n",
      "469/469 [==============================] - 3s 7ms/step - loss: 0.8895 - accuracy: 0.6878 - val_loss: 0.9310 - val_accuracy: 0.6809\n",
      "Epoch 51/100\n",
      "469/469 [==============================] - 3s 7ms/step - loss: 0.8846 - accuracy: 0.6894 - val_loss: 0.8557 - val_accuracy: 0.7061\n",
      "Epoch 52/100\n",
      "469/469 [==============================] - 3s 7ms/step - loss: 0.8828 - accuracy: 0.6922 - val_loss: 0.8521 - val_accuracy: 0.7063\n",
      "Epoch 53/100\n",
      "469/469 [==============================] - 3s 7ms/step - loss: 0.8819 - accuracy: 0.6913 - val_loss: 0.8542 - val_accuracy: 0.7014\n",
      "Epoch 54/100\n",
      "469/469 [==============================] - 4s 8ms/step - loss: 0.8760 - accuracy: 0.6955 - val_loss: 1.0351 - val_accuracy: 0.6400\n",
      "Epoch 55/100\n",
      "469/469 [==============================] - 3s 7ms/step - loss: 0.8765 - accuracy: 0.6927 - val_loss: 0.9047 - val_accuracy: 0.6839\n",
      "Epoch 56/100\n",
      "469/469 [==============================] - 3s 7ms/step - loss: 0.8702 - accuracy: 0.6952 - val_loss: 0.9279 - val_accuracy: 0.6826\n",
      "Epoch 57/100\n",
      "469/469 [==============================] - 3s 7ms/step - loss: 0.8676 - accuracy: 0.6969 - val_loss: 0.9095 - val_accuracy: 0.6843\n"
     ]
    },
    {
     "name": "stdout",
     "output_type": "stream",
     "text": [
      "Epoch 58/100\n",
      "469/469 [==============================] - 3s 7ms/step - loss: 0.8658 - accuracy: 0.7008 - val_loss: 0.8368 - val_accuracy: 0.7051\n",
      "Epoch 59/100\n",
      "469/469 [==============================] - 3s 7ms/step - loss: 0.8649 - accuracy: 0.6979 - val_loss: 0.8519 - val_accuracy: 0.7014\n",
      "Epoch 60/100\n",
      "469/469 [==============================] - 3s 7ms/step - loss: 0.8625 - accuracy: 0.6984 - val_loss: 0.8707 - val_accuracy: 0.6898\n",
      "Epoch 61/100\n",
      "469/469 [==============================] - 3s 7ms/step - loss: 0.8581 - accuracy: 0.6998 - val_loss: 0.8771 - val_accuracy: 0.6941\n",
      "Epoch 62/100\n",
      "469/469 [==============================] - 3s 7ms/step - loss: 0.8582 - accuracy: 0.6997 - val_loss: 0.8420 - val_accuracy: 0.7041\n",
      "Epoch 63/100\n",
      "469/469 [==============================] - 3s 7ms/step - loss: 0.8538 - accuracy: 0.7020 - val_loss: 0.8498 - val_accuracy: 0.7053\n",
      "Epoch 64/100\n",
      "469/469 [==============================] - 3s 7ms/step - loss: 0.8548 - accuracy: 0.7005 - val_loss: 0.8124 - val_accuracy: 0.7179\n",
      "Epoch 65/100\n",
      "469/469 [==============================] - 3s 7ms/step - loss: 0.8522 - accuracy: 0.7017 - val_loss: 0.8582 - val_accuracy: 0.7003\n",
      "Epoch 66/100\n",
      "469/469 [==============================] - 3s 7ms/step - loss: 0.8469 - accuracy: 0.7045 - val_loss: 0.8615 - val_accuracy: 0.6977\n",
      "Epoch 67/100\n",
      "469/469 [==============================] - 3s 7ms/step - loss: 0.8470 - accuracy: 0.7034 - val_loss: 0.8531 - val_accuracy: 0.7008\n",
      "Epoch 68/100\n",
      "469/469 [==============================] - 3s 7ms/step - loss: 0.8440 - accuracy: 0.7073 - val_loss: 0.8172 - val_accuracy: 0.7154\n",
      "Epoch 69/100\n",
      "469/469 [==============================] - 3s 7ms/step - loss: 0.8385 - accuracy: 0.7075 - val_loss: 0.8657 - val_accuracy: 0.6942\n",
      "Epoch 70/100\n",
      "469/469 [==============================] - 3s 7ms/step - loss: 0.8411 - accuracy: 0.7066 - val_loss: 0.9556 - val_accuracy: 0.6679\n",
      "Epoch 71/100\n",
      "469/469 [==============================] - 3s 7ms/step - loss: 0.8377 - accuracy: 0.7087 - val_loss: 0.8438 - val_accuracy: 0.7115\n",
      "Epoch 72/100\n",
      "469/469 [==============================] - 3s 7ms/step - loss: 0.8341 - accuracy: 0.7071 - val_loss: 0.9838 - val_accuracy: 0.6593\n",
      "Epoch 73/100\n",
      "469/469 [==============================] - 3s 7ms/step - loss: 0.8348 - accuracy: 0.7057 - val_loss: 0.9005 - val_accuracy: 0.6841\n",
      "Epoch 74/100\n",
      "469/469 [==============================] - 3s 7ms/step - loss: 0.8271 - accuracy: 0.7103 - val_loss: 0.8534 - val_accuracy: 0.7085\n",
      "Epoch 75/100\n",
      "469/469 [==============================] - 3s 7ms/step - loss: 0.8312 - accuracy: 0.7101 - val_loss: 0.8366 - val_accuracy: 0.7079\n",
      "Epoch 76/100\n",
      "469/469 [==============================] - 3s 7ms/step - loss: 0.8294 - accuracy: 0.7107 - val_loss: 0.8527 - val_accuracy: 0.7032\n",
      "Epoch 77/100\n",
      "469/469 [==============================] - 3s 7ms/step - loss: 0.8254 - accuracy: 0.7120 - val_loss: 0.8866 - val_accuracy: 0.6920\n",
      "Epoch 78/100\n",
      "469/469 [==============================] - 3s 7ms/step - loss: 0.8239 - accuracy: 0.7114 - val_loss: 0.8177 - val_accuracy: 0.7156\n",
      "Epoch 79/100\n",
      "469/469 [==============================] - 3s 7ms/step - loss: 0.8194 - accuracy: 0.7152 - val_loss: 0.8336 - val_accuracy: 0.7127\n",
      "Epoch 80/100\n",
      "469/469 [==============================] - 3s 7ms/step - loss: 0.8236 - accuracy: 0.7122 - val_loss: 0.8654 - val_accuracy: 0.6918\n",
      "Epoch 81/100\n",
      "469/469 [==============================] - 3s 7ms/step - loss: 0.8162 - accuracy: 0.7141 - val_loss: 0.7936 - val_accuracy: 0.7247\n",
      "Epoch 82/100\n",
      "469/469 [==============================] - 3s 7ms/step - loss: 0.8149 - accuracy: 0.7168 - val_loss: 0.8917 - val_accuracy: 0.6819\n",
      "Epoch 83/100\n",
      "469/469 [==============================] - 3s 7ms/step - loss: 0.8144 - accuracy: 0.7166 - val_loss: 0.8094 - val_accuracy: 0.7194\n",
      "Epoch 84/100\n",
      "469/469 [==============================] - 3s 7ms/step - loss: 0.8127 - accuracy: 0.7158 - val_loss: 0.8393 - val_accuracy: 0.7085\n",
      "Epoch 85/100\n",
      "469/469 [==============================] - 3s 7ms/step - loss: 0.8151 - accuracy: 0.7152 - val_loss: 0.8380 - val_accuracy: 0.7114\n",
      "Epoch 86/100\n",
      "469/469 [==============================] - 3s 7ms/step - loss: 0.8104 - accuracy: 0.7160 - val_loss: 0.8102 - val_accuracy: 0.7219\n",
      "Epoch 87/100\n",
      "469/469 [==============================] - 3s 7ms/step - loss: 0.8102 - accuracy: 0.7168 - val_loss: 0.8847 - val_accuracy: 0.6953\n",
      "Epoch 88/100\n",
      "469/469 [==============================] - 3s 7ms/step - loss: 0.8092 - accuracy: 0.7172 - val_loss: 0.8663 - val_accuracy: 0.7000\n",
      "Epoch 89/100\n",
      "469/469 [==============================] - 3s 7ms/step - loss: 0.8078 - accuracy: 0.7187 - val_loss: 0.8396 - val_accuracy: 0.7080\n",
      "Epoch 90/100\n",
      "469/469 [==============================] - 3s 7ms/step - loss: 0.8052 - accuracy: 0.7174 - val_loss: 0.7875 - val_accuracy: 0.7266\n",
      "Epoch 91/100\n",
      "469/469 [==============================] - 3s 7ms/step - loss: 0.8024 - accuracy: 0.7211 - val_loss: 0.7833 - val_accuracy: 0.7286\n",
      "Epoch 92/100\n",
      "469/469 [==============================] - 4s 8ms/step - loss: 0.8003 - accuracy: 0.7206 - val_loss: 0.9303 - val_accuracy: 0.6785\n",
      "Epoch 93/100\n",
      "469/469 [==============================] - 6s 12ms/step - loss: 0.8000 - accuracy: 0.7218 - val_loss: 0.8270 - val_accuracy: 0.7128\n",
      "Epoch 94/100\n",
      "469/469 [==============================] - 6s 12ms/step - loss: 0.7995 - accuracy: 0.7203 - val_loss: 0.8415 - val_accuracy: 0.7073\n",
      "Epoch 95/100\n",
      "469/469 [==============================] - 6s 13ms/step - loss: 0.7977 - accuracy: 0.7217 - val_loss: 0.8070 - val_accuracy: 0.7228\n",
      "Epoch 96/100\n",
      "469/469 [==============================] - 6s 12ms/step - loss: 0.8024 - accuracy: 0.7201 - val_loss: 0.8480 - val_accuracy: 0.7034\n",
      "Epoch 97/100\n",
      "469/469 [==============================] - 3s 7ms/step - loss: 0.7944 - accuracy: 0.7218 - val_loss: 0.8215 - val_accuracy: 0.7153\n",
      "Epoch 98/100\n",
      "469/469 [==============================] - 3s 7ms/step - loss: 0.7912 - accuracy: 0.7244 - val_loss: 0.8728 - val_accuracy: 0.6989\n",
      "Epoch 99/100\n",
      "469/469 [==============================] - 3s 7ms/step - loss: 0.7962 - accuracy: 0.7207 - val_loss: 0.8937 - val_accuracy: 0.6960\n",
      "Epoch 100/100\n",
      "469/469 [==============================] - 3s 7ms/step - loss: 0.7924 - accuracy: 0.7222 - val_loss: 0.8397 - val_accuracy: 0.7140\n"
     ]
    }
   ],
   "source": [
    "model_fit=model.fit(flatten_train_feature,ytrain,batch_size=128,epochs=100,validation_data=(flatten_test_feature,ytest))"
   ]
  },
  {
   "cell_type": "code",
   "execution_count": 16,
   "metadata": {},
   "outputs": [
    {
     "data": {
      "image/png": "[encoded data removed]",
      "text/plain": [
       "<Figure size 432x288 with 1 Axes>"
      ]
     },
     "metadata": {
      "needs_background": "light"
     },
     "output_type": "display_data"
    }
   ],
   "source": [
    "epochs = range(1, len(model_fit.history['accuracy']) + 1)\n",
    "plot.title('Training and Testing accuracy')\n",
    "plot.plot(epochs, model_fit.history['accuracy'], 'red', label='Training accuracy')\n",
    "plot.plot(epochs, model_fit.history['val_accuracy'], 'blue', label='Testing accuracy')\n",
    "plot.xlabel('Epochs',size=18)\n",
    "plot.ylabel('Accuracy',size=18)\n",
    "plot.legend()\n",
    "plot.show()"
   ]
  },
  {
   "cell_type": "markdown",
   "metadata": {},
   "source": [
    "# MLP Network"
   ]
  },
  {
   "cell_type": "code",
   "execution_count": 23,
   "metadata": {},
   "outputs": [],
   "source": [
    "xtrain = xtrain[0:1024]\n",
    "ytrain = ytrain[0:1024]\n",
    "xtest = xtest[0:307]\n",
    "ytest = ytest[0:307]\n"
   ]
  },
  {
   "cell_type": "code",
   "execution_count": 24,
   "metadata": {},
   "outputs": [],
   "source": [
    "xtrain=xtrain.reshape(1024,784)/255\n",
    "xtest=xtest.reshape(307,784)/255\n",
    "ytrain=utils.to_categorical(ytrain,10)\n",
    "ytest=utils.to_categorical(ytest,10)"
   ]
  },
  {
   "cell_type": "markdown",
   "metadata": {},
   "source": [
    "# Creating Dense Layers"
   ]
  },
  {
   "cell_type": "code",
   "execution_count": 25,
   "metadata": {},
   "outputs": [
    {
     "name": "stdout",
     "output_type": "stream",
     "text": [
      "Epoch 1/10\n",
      "8/8 [==============================] - 0s 17ms/step - loss: 2.1969 - accuracy: 0.2920 - val_loss: 1.9935 - val_accuracy: 0.5733\n",
      "Epoch 2/10\n",
      "8/8 [==============================] - 0s 6ms/step - loss: 1.5253 - accuracy: 0.6309 - val_loss: 1.2875 - val_accuracy: 0.5635\n",
      "Epoch 3/10\n",
      "8/8 [==============================] - 0s 6ms/step - loss: 0.8153 - accuracy: 0.7715 - val_loss: 0.7325 - val_accuracy: 0.7687\n",
      "Epoch 4/10\n",
      "8/8 [==============================] - 0s 6ms/step - loss: 0.5377 - accuracy: 0.8398 - val_loss: 0.5827 - val_accuracy: 0.7948\n",
      "Epoch 5/10\n",
      "8/8 [==============================] - 0s 6ms/step - loss: 0.4105 - accuracy: 0.8682 - val_loss: 0.5959 - val_accuracy: 0.7980\n",
      "Epoch 6/10\n",
      "8/8 [==============================] - 0s 6ms/step - loss: 0.2976 - accuracy: 0.9131 - val_loss: 0.4164 - val_accuracy: 0.8762\n",
      "Epoch 7/10\n",
      "8/8 [==============================] - 0s 5ms/step - loss: 0.2116 - accuracy: 0.9424 - val_loss: 0.3893 - val_accuracy: 0.8990\n",
      "Epoch 8/10\n",
      "8/8 [==============================] - 0s 7ms/step - loss: 0.1627 - accuracy: 0.9570 - val_loss: 0.4882 - val_accuracy: 0.8241\n",
      "Epoch 9/10\n",
      "8/8 [==============================] - 0s 6ms/step - loss: 0.1677 - accuracy: 0.9512 - val_loss: 0.3770 - val_accuracy: 0.8925\n",
      "Epoch 10/10\n",
      "8/8 [==============================] - 0s 6ms/step - loss: 0.1021 - accuracy: 0.9785 - val_loss: 0.3529 - val_accuracy: 0.8893\n",
      "10/10 [==============================] - 0s 810us/step - loss: 0.3529 - accuracy: 0.8893\n",
      "Test loss:  0.3528640866279602 Test accuracy:  0.8892508149147034\n"
     ]
    }
   ],
   "source": [
    "inputs = layers.Input(shape=(784,))\n",
    "x = layers.Dense(128,activation='relu')(inputs)\n",
    "x = layers.Dense(128,activation='relu')(x)\n",
    "x = layers.Dense(128,activation='relu')(x)\n",
    "x = layers.Dense(128,activation='relu')(x)\n",
    "x = layers.Dense(128,activation='relu')(x)\n",
    "\n",
    "outputs=layers.Dense(10,activation='softmax')(x)\n",
    "model = models.Model(inputs=inputs,outputs=outputs)\n",
    "\n",
    "model.compile(loss='categorical_crossentropy', optimizer='Nadam', metrics=['accuracy'])\n",
    "history = model.fit(xtrain, ytrain, batch_size=128, epochs=10, validation_data=(xtest,ytest))\n",
    "score = model.evaluate(xtest, ytest)\n",
    "print('Test loss: ', score[0], 'Test accuracy: ', score[1])"
   ]
  },
  {
   "cell_type": "markdown",
   "metadata": {},
   "source": [
    "# Evaluation of MLP dataset"
   ]
  },
  {
   "cell_type": "code",
   "execution_count": 27,
   "metadata": {},
   "outputs": [
    {
     "data": {
      "image/png": "[encoded data removed]",
      "text/plain": [
       "<Figure size 432x288 with 1 Axes>"
      ]
     },
     "metadata": {
      "needs_background": "light"
     },
     "output_type": "display_data"
    }
   ],
   "source": [
    "plot.plot(history.history['accuracy'], '--')\n",
    "plot.plot(history.history['val_accuracy'])\n",
    "plot.xlabel('epoch',size=18)\n",
    "plot.ylabel('accuracy',size=18)\n",
    "plot.legend(['train', 'test'], loc='lower right')\n",
    "plot.show()"
   ]
  },
  {
   "cell_type": "markdown",
   "metadata": {},
   "source": [
    "# CNN Network"
   ]
  },
  {
   "cell_type": "markdown",
   "metadata": {},
   "source": [
    "# Data preprocessing"
   ]
  },
  {
   "cell_type": "code",
   "execution_count": 32,
   "metadata": {},
   "outputs": [],
   "source": [
    "#-- CNN with 60000 data\n",
    "\n",
    "(xtrain,ytrain),(xtest,ytest)= datasets.mnist.load_data( )\n",
    "\n",
    "xtrain = xtrain[0:1024]\n",
    "ytrain = ytrain[0:1024]\n",
    "xtest = xtest[0:307]\n",
    "ytest = ytest[0:307]\n",
    "\n",
    "xtrain=xtrain.reshape(1024,28,28,1)/255\n",
    "xtest=xtest.reshape(307,28,28,1)/255\n",
    "ytrain=utils.to_categorical(ytrain,10)\n",
    "ytest=utils.to_categorical(ytest,10)"
   ]
  },
  {
   "cell_type": "markdown",
   "metadata": {},
   "source": [
    "# Convo Layers"
   ]
  },
  {
   "cell_type": "code",
   "execution_count": 35,
   "metadata": {},
   "outputs": [
    {
     "name": "stdout",
     "output_type": "stream",
     "text": [
      "Epoch 1/100\n",
      "16/16 [==============================] - 3s 176ms/step - loss: 2.3004 - accuracy: 0.0723 - val_loss: 2.2980 - val_accuracy: 0.1173\n",
      "Epoch 2/100\n",
      "16/16 [==============================] - 3s 170ms/step - loss: 2.2929 - accuracy: 0.1123 - val_loss: 2.2925 - val_accuracy: 0.1433\n",
      "Epoch 3/100\n",
      "16/16 [==============================] - 3s 186ms/step - loss: 2.2852 - accuracy: 0.1924 - val_loss: 2.2868 - val_accuracy: 0.1987\n",
      "Epoch 4/100\n",
      "16/16 [==============================] - 3s 172ms/step - loss: 2.2775 - accuracy: 0.3057 - val_loss: 2.2808 - val_accuracy: 0.2508\n",
      "Epoch 5/100\n",
      "16/16 [==============================] - 3s 171ms/step - loss: 2.2694 - accuracy: 0.3965 - val_loss: 2.2743 - val_accuracy: 0.3094\n",
      "Epoch 6/100\n",
      "16/16 [==============================] - 3s 192ms/step - loss: 2.2611 - accuracy: 0.4502 - val_loss: 2.2676 - val_accuracy: 0.3616\n",
      "Epoch 7/100\n",
      "16/16 [==============================] - 3s 175ms/step - loss: 2.2525 - accuracy: 0.4951 - val_loss: 2.2606 - val_accuracy: 0.4137\n",
      "Epoch 8/100\n",
      "16/16 [==============================] - 3s 174ms/step - loss: 2.2436 - accuracy: 0.5264 - val_loss: 2.2532 - val_accuracy: 0.4528\n",
      "Epoch 9/100\n",
      "16/16 [==============================] - 3s 187ms/step - loss: 2.2345 - accuracy: 0.5742 - val_loss: 2.2456 - val_accuracy: 0.5049\n",
      "Epoch 10/100\n",
      "16/16 [==============================] - 3s 189ms/step - loss: 2.2250 - accuracy: 0.5977 - val_loss: 2.2375 - val_accuracy: 0.5505\n",
      "Epoch 11/100\n",
      "16/16 [==============================] - 3s 186ms/step - loss: 2.2151 - accuracy: 0.6309 - val_loss: 2.2291 - val_accuracy: 0.5700\n",
      "Epoch 12/100\n",
      "16/16 [==============================] - 3s 180ms/step - loss: 2.2045 - accuracy: 0.6562 - val_loss: 2.2203 - val_accuracy: 0.5863\n",
      "Epoch 13/100\n",
      "16/16 [==============================] - 3s 190ms/step - loss: 2.1936 - accuracy: 0.6670 - val_loss: 2.2110 - val_accuracy: 0.5896\n",
      "Epoch 14/100\n",
      "16/16 [==============================] - 3s 189ms/step - loss: 2.1821 - accuracy: 0.6846 - val_loss: 2.2013 - val_accuracy: 0.6091\n",
      "Epoch 15/100\n",
      "16/16 [==============================] - 3s 195ms/step - loss: 2.1701 - accuracy: 0.6943 - val_loss: 2.1911 - val_accuracy: 0.6124\n",
      "Epoch 16/100\n",
      "16/16 [==============================] - 3s 187ms/step - loss: 2.1576 - accuracy: 0.7051 - val_loss: 2.1805 - val_accuracy: 0.6189\n",
      "Epoch 17/100\n",
      "16/16 [==============================] - 3s 189ms/step - loss: 2.1443 - accuracy: 0.7139 - val_loss: 2.1693 - val_accuracy: 0.6189\n",
      "Epoch 18/100\n",
      "16/16 [==============================] - 3s 184ms/step - loss: 2.1304 - accuracy: 0.7188 - val_loss: 2.1575 - val_accuracy: 0.6221\n",
      "Epoch 19/100\n",
      "16/16 [==============================] - 3s 183ms/step - loss: 2.1159 - accuracy: 0.7266 - val_loss: 2.1451 - val_accuracy: 0.6254\n",
      "Epoch 20/100\n",
      "16/16 [==============================] - 3s 179ms/step - loss: 2.1007 - accuracy: 0.7354 - val_loss: 2.1323 - val_accuracy: 0.6352\n",
      "Epoch 21/100\n",
      "16/16 [==============================] - 3s 180ms/step - loss: 2.0849 - accuracy: 0.7363 - val_loss: 2.1187 - val_accuracy: 0.6384\n",
      "Epoch 22/100\n",
      "16/16 [==============================] - 3s 181ms/step - loss: 2.0685 - accuracy: 0.7373 - val_loss: 2.1045 - val_accuracy: 0.6417\n",
      "Epoch 23/100\n",
      "16/16 [==============================] - 3s 183ms/step - loss: 2.0514 - accuracy: 0.7412 - val_loss: 2.0898 - val_accuracy: 0.6482\n",
      "Epoch 24/100\n",
      "16/16 [==============================] - 3s 189ms/step - loss: 2.0336 - accuracy: 0.7402 - val_loss: 2.0745 - val_accuracy: 0.6482\n",
      "Epoch 25/100\n",
      "16/16 [==============================] - 3s 186ms/step - loss: 2.0152 - accuracy: 0.7432 - val_loss: 2.0586 - val_accuracy: 0.6580\n",
      "Epoch 26/100\n",
      "16/16 [==============================] - 3s 180ms/step - loss: 1.9961 - accuracy: 0.7461 - val_loss: 2.0422 - val_accuracy: 0.6645\n",
      "Epoch 27/100\n",
      "16/16 [==============================] - 3s 188ms/step - loss: 1.9763 - accuracy: 0.7432 - val_loss: 2.0252 - val_accuracy: 0.6580\n",
      "Epoch 28/100\n",
      "16/16 [==============================] - 3s 193ms/step - loss: 1.9559 - accuracy: 0.7520 - val_loss: 2.0075 - val_accuracy: 0.6645\n",
      "Epoch 29/100\n",
      "16/16 [==============================] - 3s 197ms/step - loss: 1.9347 - accuracy: 0.7490 - val_loss: 1.9893 - val_accuracy: 0.6645\n",
      "Epoch 30/100\n",
      "16/16 [==============================] - 3s 180ms/step - loss: 1.9129 - accuracy: 0.7578 - val_loss: 1.9704 - val_accuracy: 0.6645\n",
      "Epoch 31/100\n",
      "16/16 [==============================] - 3s 180ms/step - loss: 1.8903 - accuracy: 0.7607 - val_loss: 1.9508 - val_accuracy: 0.6710\n",
      "Epoch 32/100\n",
      "16/16 [==============================] - 3s 183ms/step - loss: 1.8668 - accuracy: 0.7646 - val_loss: 1.9305 - val_accuracy: 0.6743\n",
      "Epoch 33/100\n",
      "16/16 [==============================] - 3s 181ms/step - loss: 1.8426 - accuracy: 0.7686 - val_loss: 1.9095 - val_accuracy: 0.6743\n",
      "Epoch 34/100\n",
      "16/16 [==============================] - 3s 187ms/step - loss: 1.8175 - accuracy: 0.7686 - val_loss: 1.8877 - val_accuracy: 0.6775\n",
      "Epoch 35/100\n",
      "16/16 [==============================] - 3s 182ms/step - loss: 1.7918 - accuracy: 0.7734 - val_loss: 1.8652 - val_accuracy: 0.6775\n",
      "Epoch 36/100\n",
      "16/16 [==============================] - 3s 183ms/step - loss: 1.7654 - accuracy: 0.7734 - val_loss: 1.8421 - val_accuracy: 0.6743\n",
      "Epoch 37/100\n",
      "16/16 [==============================] - 3s 179ms/step - loss: 1.7383 - accuracy: 0.7783 - val_loss: 1.8183 - val_accuracy: 0.6808\n",
      "Epoch 38/100\n",
      "16/16 [==============================] - 3s 187ms/step - loss: 1.7104 - accuracy: 0.7793 - val_loss: 1.7938 - val_accuracy: 0.6808\n",
      "Epoch 39/100\n",
      "16/16 [==============================] - 3s 186ms/step - loss: 1.6820 - accuracy: 0.7832 - val_loss: 1.7689 - val_accuracy: 0.6840\n",
      "Epoch 40/100\n",
      "16/16 [==============================] - 3s 183ms/step - loss: 1.6531 - accuracy: 0.7832 - val_loss: 1.7434 - val_accuracy: 0.6840\n",
      "Epoch 41/100\n",
      "16/16 [==============================] - 3s 193ms/step - loss: 1.6236 - accuracy: 0.7871 - val_loss: 1.7173 - val_accuracy: 0.6906\n",
      "Epoch 42/100\n",
      "16/16 [==============================] - 3s 201ms/step - loss: 1.5936 - accuracy: 0.7891 - val_loss: 1.6908 - val_accuracy: 0.6971\n",
      "Epoch 43/100\n",
      "16/16 [==============================] - 3s 188ms/step - loss: 1.5632 - accuracy: 0.7900 - val_loss: 1.6639 - val_accuracy: 0.6971\n",
      "Epoch 44/100\n",
      "16/16 [==============================] - 3s 187ms/step - loss: 1.5325 - accuracy: 0.7920 - val_loss: 1.6366 - val_accuracy: 0.6938\n",
      "Epoch 45/100\n",
      "16/16 [==============================] - 3s 192ms/step - loss: 1.5017 - accuracy: 0.7920 - val_loss: 1.6090 - val_accuracy: 0.7003\n",
      "Epoch 46/100\n",
      "16/16 [==============================] - 3s 183ms/step - loss: 1.4705 - accuracy: 0.7920 - val_loss: 1.5813 - val_accuracy: 0.7036\n",
      "Epoch 47/100\n",
      "16/16 [==============================] - 3s 186ms/step - loss: 1.4393 - accuracy: 0.7920 - val_loss: 1.5533 - val_accuracy: 0.7101\n",
      "Epoch 48/100\n",
      "16/16 [==============================] - 3s 183ms/step - loss: 1.4080 - accuracy: 0.7969 - val_loss: 1.5252 - val_accuracy: 0.7166\n",
      "Epoch 49/100\n",
      "16/16 [==============================] - 3s 186ms/step - loss: 1.3766 - accuracy: 0.8037 - val_loss: 1.4971 - val_accuracy: 0.7231\n",
      "Epoch 50/100\n",
      "16/16 [==============================] - 3s 194ms/step - loss: 1.3458 - accuracy: 0.8018 - val_loss: 1.4691 - val_accuracy: 0.7264\n",
      "Epoch 51/100\n",
      "16/16 [==============================] - 3s 189ms/step - loss: 1.3148 - accuracy: 0.8027 - val_loss: 1.4412 - val_accuracy: 0.7296\n",
      "Epoch 52/100\n",
      "16/16 [==============================] - 3s 181ms/step - loss: 1.2844 - accuracy: 0.8057 - val_loss: 1.4134 - val_accuracy: 0.7394\n",
      "Epoch 53/100\n",
      "16/16 [==============================] - 3s 183ms/step - loss: 1.2543 - accuracy: 0.8027 - val_loss: 1.3859 - val_accuracy: 0.7362\n",
      "Epoch 54/100\n",
      "16/16 [==============================] - 3s 188ms/step - loss: 1.2246 - accuracy: 0.8135 - val_loss: 1.3587 - val_accuracy: 0.7427\n",
      "Epoch 55/100\n",
      "16/16 [==============================] - 3s 186ms/step - loss: 1.1956 - accuracy: 0.8154 - val_loss: 1.3319 - val_accuracy: 0.7427\n",
      "Epoch 56/100\n",
      "16/16 [==============================] - 3s 182ms/step - loss: 1.1672 - accuracy: 0.8135 - val_loss: 1.3057 - val_accuracy: 0.7394\n",
      "Epoch 57/100\n",
      "16/16 [==============================] - 3s 182ms/step - loss: 1.1393 - accuracy: 0.8193 - val_loss: 1.2798 - val_accuracy: 0.7427\n"
     ]
    },
    {
     "name": "stdout",
     "output_type": "stream",
     "text": [
      "Epoch 58/100\n",
      "16/16 [==============================] - 3s 183ms/step - loss: 1.1122 - accuracy: 0.8193 - val_loss: 1.2546 - val_accuracy: 0.7492\n",
      "Epoch 59/100\n",
      "16/16 [==============================] - 3s 186ms/step - loss: 1.0860 - accuracy: 0.8242 - val_loss: 1.2301 - val_accuracy: 0.7557\n",
      "Epoch 60/100\n",
      "16/16 [==============================] - 3s 182ms/step - loss: 1.0603 - accuracy: 0.8271 - val_loss: 1.2061 - val_accuracy: 0.7524\n",
      "Epoch 61/100\n",
      "16/16 [==============================] - 3s 180ms/step - loss: 1.0357 - accuracy: 0.8252 - val_loss: 1.1828 - val_accuracy: 0.7557\n",
      "Epoch 62/100\n",
      "16/16 [==============================] - 3s 194ms/step - loss: 1.0115 - accuracy: 0.8242 - val_loss: 1.1600 - val_accuracy: 0.7590\n",
      "Epoch 63/100\n",
      "16/16 [==============================] - 3s 183ms/step - loss: 0.9884 - accuracy: 0.8281 - val_loss: 1.1379 - val_accuracy: 0.7687\n",
      "Epoch 64/100\n",
      "16/16 [==============================] - 3s 186ms/step - loss: 0.9661 - accuracy: 0.8271 - val_loss: 1.1165 - val_accuracy: 0.7720\n",
      "Epoch 65/100\n",
      "16/16 [==============================] - 3s 184ms/step - loss: 0.9445 - accuracy: 0.8291 - val_loss: 1.0960 - val_accuracy: 0.7752\n",
      "Epoch 66/100\n",
      "16/16 [==============================] - 3s 186ms/step - loss: 0.9239 - accuracy: 0.8291 - val_loss: 1.0760 - val_accuracy: 0.7785\n",
      "Epoch 67/100\n",
      "16/16 [==============================] - 3s 184ms/step - loss: 0.9038 - accuracy: 0.8301 - val_loss: 1.0566 - val_accuracy: 0.7818\n",
      "Epoch 68/100\n",
      "16/16 [==============================] - 3s 181ms/step - loss: 0.8846 - accuracy: 0.8330 - val_loss: 1.0379 - val_accuracy: 0.7850\n",
      "Epoch 69/100\n",
      "16/16 [==============================] - 3s 181ms/step - loss: 0.8662 - accuracy: 0.8330 - val_loss: 1.0199 - val_accuracy: 0.7850\n",
      "Epoch 70/100\n",
      "16/16 [==============================] - 3s 182ms/step - loss: 0.8484 - accuracy: 0.8311 - val_loss: 1.0024 - val_accuracy: 0.7850\n",
      "Epoch 71/100\n",
      "16/16 [==============================] - 3s 181ms/step - loss: 0.8316 - accuracy: 0.8359 - val_loss: 0.9856 - val_accuracy: 0.7850\n",
      "Epoch 72/100\n",
      "16/16 [==============================] - 3s 184ms/step - loss: 0.8154 - accuracy: 0.8359 - val_loss: 0.9694 - val_accuracy: 0.7850\n",
      "Epoch 73/100\n",
      "16/16 [==============================] - 3s 185ms/step - loss: 0.7996 - accuracy: 0.8389 - val_loss: 0.9540 - val_accuracy: 0.7818\n",
      "Epoch 74/100\n",
      "16/16 [==============================] - 3s 183ms/step - loss: 0.7845 - accuracy: 0.8398 - val_loss: 0.9388 - val_accuracy: 0.7883\n",
      "Epoch 75/100\n",
      "16/16 [==============================] - 3s 181ms/step - loss: 0.7702 - accuracy: 0.8398 - val_loss: 0.9243 - val_accuracy: 0.7883\n",
      "Epoch 76/100\n",
      "16/16 [==============================] - 3s 182ms/step - loss: 0.7564 - accuracy: 0.8428 - val_loss: 0.9103 - val_accuracy: 0.7883\n",
      "Epoch 77/100\n",
      "16/16 [==============================] - 3s 182ms/step - loss: 0.7432 - accuracy: 0.8428 - val_loss: 0.8968 - val_accuracy: 0.7883\n",
      "Epoch 78/100\n",
      "16/16 [==============================] - 3s 183ms/step - loss: 0.7307 - accuracy: 0.8467 - val_loss: 0.8840 - val_accuracy: 0.7883\n",
      "Epoch 79/100\n",
      "16/16 [==============================] - 3s 186ms/step - loss: 0.7185 - accuracy: 0.8457 - val_loss: 0.8714 - val_accuracy: 0.7883\n",
      "Epoch 80/100\n",
      "16/16 [==============================] - 3s 183ms/step - loss: 0.7067 - accuracy: 0.8467 - val_loss: 0.8594 - val_accuracy: 0.7915\n",
      "Epoch 81/100\n",
      "16/16 [==============================] - 3s 181ms/step - loss: 0.6956 - accuracy: 0.8496 - val_loss: 0.8479 - val_accuracy: 0.7948\n",
      "Epoch 82/100\n",
      "16/16 [==============================] - 3s 182ms/step - loss: 0.6848 - accuracy: 0.8467 - val_loss: 0.8367 - val_accuracy: 0.7948\n",
      "Epoch 83/100\n",
      "16/16 [==============================] - 3s 183ms/step - loss: 0.6744 - accuracy: 0.8467 - val_loss: 0.8258 - val_accuracy: 0.7980\n",
      "Epoch 84/100\n",
      "16/16 [==============================] - 3s 182ms/step - loss: 0.6643 - accuracy: 0.8486 - val_loss: 0.8153 - val_accuracy: 0.7980\n",
      "Epoch 85/100\n",
      "16/16 [==============================] - 3s 182ms/step - loss: 0.6547 - accuracy: 0.8486 - val_loss: 0.8051 - val_accuracy: 0.7980\n",
      "Epoch 86/100\n",
      "16/16 [==============================] - 3s 181ms/step - loss: 0.6455 - accuracy: 0.8486 - val_loss: 0.7955 - val_accuracy: 0.8046\n",
      "Epoch 87/100\n",
      "16/16 [==============================] - 3s 187ms/step - loss: 0.6368 - accuracy: 0.8496 - val_loss: 0.7861 - val_accuracy: 0.8046\n",
      "Epoch 88/100\n",
      "16/16 [==============================] - 3s 182ms/step - loss: 0.6280 - accuracy: 0.8506 - val_loss: 0.7769 - val_accuracy: 0.8046\n",
      "Epoch 89/100\n",
      "16/16 [==============================] - 3s 183ms/step - loss: 0.6197 - accuracy: 0.8506 - val_loss: 0.7681 - val_accuracy: 0.8046\n",
      "Epoch 90/100\n",
      "16/16 [==============================] - 3s 183ms/step - loss: 0.6119 - accuracy: 0.8506 - val_loss: 0.7597 - val_accuracy: 0.8078\n",
      "Epoch 91/100\n",
      "16/16 [==============================] - 3s 182ms/step - loss: 0.6041 - accuracy: 0.8525 - val_loss: 0.7513 - val_accuracy: 0.8078\n",
      "Epoch 92/100\n",
      "16/16 [==============================] - 3s 183ms/step - loss: 0.5967 - accuracy: 0.8545 - val_loss: 0.7434 - val_accuracy: 0.8078\n",
      "Epoch 93/100\n",
      "16/16 [==============================] - 3s 186ms/step - loss: 0.5894 - accuracy: 0.8564 - val_loss: 0.7357 - val_accuracy: 0.8078\n",
      "Epoch 94/100\n",
      "16/16 [==============================] - 3s 182ms/step - loss: 0.5827 - accuracy: 0.8574 - val_loss: 0.7281 - val_accuracy: 0.8111\n",
      "Epoch 95/100\n",
      "16/16 [==============================] - 3s 182ms/step - loss: 0.5760 - accuracy: 0.8574 - val_loss: 0.7211 - val_accuracy: 0.8143\n",
      "Epoch 96/100\n",
      "16/16 [==============================] - 3s 185ms/step - loss: 0.5695 - accuracy: 0.8604 - val_loss: 0.7141 - val_accuracy: 0.8143\n",
      "Epoch 97/100\n",
      "16/16 [==============================] - 3s 184ms/step - loss: 0.5632 - accuracy: 0.8633 - val_loss: 0.7071 - val_accuracy: 0.8241\n",
      "Epoch 98/100\n",
      "16/16 [==============================] - 3s 182ms/step - loss: 0.5573 - accuracy: 0.8584 - val_loss: 0.7005 - val_accuracy: 0.8241\n",
      "Epoch 99/100\n",
      "16/16 [==============================] - 3s 181ms/step - loss: 0.5514 - accuracy: 0.8613 - val_loss: 0.6941 - val_accuracy: 0.8241\n",
      "Epoch 100/100\n",
      "16/16 [==============================] - 3s 184ms/step - loss: 0.5455 - accuracy: 0.8623 - val_loss: 0.6879 - val_accuracy: 0.8274\n",
      "10/10 [==============================] - 0s 25ms/step - loss: 0.6879 - accuracy: 0.8274\n",
      "0.687919020652771\n",
      "0.8273615837097168\n"
     ]
    }
   ],
   "source": [
    "inputs = layers.Input(shape=(28,28,1,))\n",
    "x = layers.Conv2D(64,kernel_size=(3,3),activation='relu')(inputs)\n",
    "x = layers.Conv2D(128,kernel_size=(3,3),activation='relu')(x)\n",
    "# x = layers.MaxPooling2D(pool_size=(2,2))(x)\n",
    "# x =layers.Dropout(0.25)(x)\n",
    "x = layers.Flatten()(x)\n",
    "x = layers.Dense(126,activation='relu')(x)\n",
    "# x =layers.Dropout(0.5)(x)\n",
    "outputs=layers.Dense(10,activation='softmax')(x)\n",
    "model = models.Model(inputs=inputs,outputs=outputs)\n",
    "\n",
    "model.compile(loss=losses.categorical_crossentropy,optimizer=optimizers.Adadelta(),metrics=['accuracy'])\n",
    "history=model.fit(xtrain,ytrain,batch_size=64,epochs=100,validation_data=(xtest,ytest))\n",
    "score = model.evaluate(xtest,ytest)\n",
    "print(score[0])\n",
    "print(score[1])"
   ]
  },
  {
   "cell_type": "markdown",
   "metadata": {},
   "source": [
    "# Evaluation Of CNN Model"
   ]
  },
  {
   "cell_type": "code",
   "execution_count": 36,
   "metadata": {},
   "outputs": [
    {
     "data": {
      "image/png": "[encoded data removed]",
      "text/plain": [
       "<Figure size 432x288 with 1 Axes>"
      ]
     },
     "metadata": {
      "needs_background": "light"
     },
     "output_type": "display_data"
    }
   ],
   "source": [
    "plot.plot(history.history['accuracy'], '--')\n",
    "plot.plot(history.history['val_accuracy'])\n",
    "plot.xlabel('epoch',size=18)\n",
    "plot.ylabel('accuracy',size=18)\n",
    "plot.legend(['train', 'test'], loc='lower right')\n",
    "plot.show()"
   ]
  }
 ],
 "metadata": {
  "kernelspec": {
   "display_name": "Python 3",
   "language": "python",
   "name": "python3"
  },
  "language_info": {
   "codemirror_mode": {
    "name": "ipython",
    "version": 3
   },
   "file_extension": ".py",
   "mimetype": "text/x-python",
   "name": "python",
   "nbconvert_exporter": "python",
   "pygments_lexer": "ipython3",
   "version": "3.8.5"
  }
 },
 "nbformat": 4,
 "nbformat_minor": 4
}
